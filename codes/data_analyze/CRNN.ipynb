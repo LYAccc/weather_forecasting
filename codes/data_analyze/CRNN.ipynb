{
 "cells": [
  {
   "cell_type": "code",
   "execution_count": 1,
   "id": "46b613ae",
   "metadata": {},
   "outputs": [],
   "source": [
    "import numpy as np\n",
    "import pandas as pd\n",
    "import matplotlib.pyplot as plt\n",
    "import cv2\n",
    "import os\n",
    "import tensorflow as tf# 神经网络学习包\n",
    "from sklearn.model_selection import train_test_split\n",
    "import datetime\n",
    "import pytz\n",
    "import time"
   ]
  },
  {
   "cell_type": "markdown",
   "id": "8d7e6a38",
   "metadata": {},
   "source": [
    "## 图像处理工具"
   ]
  },
  {
   "cell_type": "code",
   "execution_count": 59,
   "id": "b3f9c33b",
   "metadata": {},
   "outputs": [
    {
     "data": {
      "text/plain": [
       "(115, 115)"
      ]
     },
     "execution_count": 59,
     "metadata": {},
     "output_type": "execute_result"
    },
    {
     "data": {
      "image/png": "[encoded data removed]",
      "text/plain": [
       "<Figure size 1000x1000 with 1 Axes>"
      ]
     },
     "metadata": {
      "needs_background": "light"
     },
     "output_type": "display_data"
    }
   ],
   "source": [
    "image = plt.imread('D:\\\\radar_pull\\\\OpencvTest\\\\OpencvTest\\\\599_con.jpg')\n",
    "# image2 =  cv2.imread('D:\\\\radar_pull\\\\OpencvTest\\\\OpencvTest\\\\444.png')\n",
    "# image3 = cv2.imread('D:\\\\radar_pull\\\\OpencvTest\\\\OpencvTest\\\\445.png')\n",
    "# cv2.imshow(\"sadf\",down_image(image))\n",
    "\n",
    "# cv2.waitKey(0)\n",
    "# cv2.destroyAllWindows()\n",
    "# cv2.imwrite('D:\\\\misic-temp-UTC_0\\\\202107\\\\test.png', down_image(image))\n",
    "fig = plt.figure(figsize=(10, 10), dpi=100)\n",
    "plt.subplot(2, 2, 1)\n",
    "plt.imshow(down_image(image),cmap='gray')\n",
    "\n",
    "down_image(image).shape"
   ]
  },
  {
   "cell_type": "code",
   "execution_count": 64,
   "id": "11dc0b75",
   "metadata": {},
   "outputs": [],
   "source": [
    "def generate_train_images(source_path,des_path,begin,end):\n",
    "    \n",
    "    for i in range(begin,end + 1):\n",
    "        if(os.path.isfile(source_path + '\\\\{}_con.jpg'.format(i))):\n",
    "            image = down_image(plt.imread(source_path + '\\\\{}_con.jpg'.format(i)))\n",
    "            file_name = des_path + '\\\\train_image{}.png'.format(i)\n",
    "            cv2.imwrite(file_name, image)\n",
    "        else:\n",
    "            pass\n",
    "\n",
    "def down_image(image):\n",
    "    image_result = cv2.cvtColor(image, cv2.COLOR_BGR2GRAY)\n",
    "    return cv2.pyrDown(cv2.pyrDown(cv2.pyrDown(image_result)))"
   ]
  },
  {
   "cell_type": "code",
   "execution_count": 68,
   "id": "5f875844",
   "metadata": {},
   "outputs": [],
   "source": [
    "# plt.figure(figsize=(5, 5), dpi=150)\n",
    "# plt.imshow(down_image(image3))\n",
    "# image.shape\n",
    "path_ = 'D:\\\\radar_pull\\\\OpencvTest\\\\OpencvTest'\n",
    "def pack_images_to_des(path,begin,end):\n",
    "    des_path = os.getcwd() + '\\\\train_images_{}_115_115_track'.format(path[-6:])\n",
    "    if(not os.path.isdir(des_path)):\n",
    "        os.mkdir(des_path)\n",
    "    for f in (os.listdir(des_path)):#清空当前文件夹\n",
    "        os.remove(des_path + '\\\\' + f)\n",
    "    generate_train_images(path,des_path,begin,end)\n",
    "pack_images_to_des(path_,500,2500)"
   ]
  },
  {
   "cell_type": "markdown",
   "id": "da94c65d",
   "metadata": {},
   "source": [
    "## 数据准备"
   ]
  },
  {
   "cell_type": "code",
   "execution_count": 69,
   "id": "18c0a1ec",
   "metadata": {},
   "outputs": [],
   "source": [
    "data_path = os.getcwd() + '\\\\train_images_{}_115_115_track'.format(path_[-6:])\n",
    "def load_data(path):\n",
    "    \"\"\"\n",
    "    把指定文件夹的所有图片数据加载进训练数据集\n",
    "    \"\"\"\n",
    "    data_collect_X = []\n",
    "    data_collect_Y = [] \n",
    "    order_df = pd.DataFrame(os.listdir(path))\n",
    "    number_image = order_df.apply(lambda x:int(x[0][11:-4]),axis = 1).sort_values().values.tolist()#文件名必须类似train_image123.png,取出所有文件数字名称用于顺序排名\n",
    "    for i in range(len(number_image) - 6):\n",
    "        image1 = cv2.imread(path + '\\\\' + 'train_image{}.png'.format(number_image[i]),cv2.IMREAD_GRAYSCALE)\n",
    "        image2 =  cv2.imread(path + '\\\\' + 'train_image{}.png'.format(number_image[i+1]),cv2.IMREAD_GRAYSCALE)\n",
    "        image3 = cv2.imread(path + '\\\\' + 'train_image{}.png'.format(number_image[i+2]),cv2.IMREAD_GRAYSCALE)\n",
    "        image4 = cv2.imread(path + '\\\\' + 'train_image{}.png'.format(number_image[i+3]),cv2.IMREAD_GRAYSCALE)\n",
    "        image5 = cv2.imread(path + '\\\\' + 'train_image{}.png'.format(number_image[i+4]),cv2.IMREAD_GRAYSCALE)\n",
    "        image6 = cv2.imread(path + '\\\\' + 'train_image{}.png'.format(number_image[i+5]),cv2.IMREAD_GRAYSCALE)\n",
    "        image7 = cv2.imread(path + '\\\\' + 'train_image{}.png'.format(number_image[i+6]),cv2.IMREAD_GRAYSCALE)\n",
    "        X = np.stack([image1,image2,image3,image4,image5,image6],axis = 0)\n",
    "#         Y = np.stack([image3,image4],axis = 0)\n",
    "        data_collect_X.append(X)\n",
    "        data_collect_Y.append(image7)\n",
    "    return np.array(data_collect_X),np.array(data_collect_Y)\n",
    "       \n",
    "        \n",
    "def time_series_load_data(path):\n",
    "    \"\"\"\n",
    "    把指定文件夹的所有图片数据加载进训练数据集\n",
    "    \"\"\"\n",
    "    data_collect = []\n",
    "    order_df = pd.DataFrame(os.listdir(path))\n",
    "    number_image = order_df.apply(lambda x:int(x[0][11:-4]),axis = 1).sort_values().values.tolist()#文件名必须类似train_image123.png,取出所有文件数字名称用于顺序排名\n",
    "    for i in range(len(number_image)):\n",
    "        image = cv2.imread(path + '\\\\' + 'train_image{}.png'.format(number_image[i]),cv2.IMREAD_GRAYSCALE)\n",
    "        data_collect.append(image)\n",
    "    return np.array(data_collect)\n",
    "\n",
    "    \n",
    "def get_image_filesname(path):\n",
    "     df_ = pd.DataFrame(os.listdir(path))\n",
    "     order = df_.apply(lambda x:int(x[0][11:-4]),axis = 1)\n",
    "     df_ = df_.set_index(order).sort_index()\n",
    "     file_names = df_.apply(lambda x: os.getcwd() + '\\\\train_images_202107_110_128\\\\' + x).values\n",
    "     data_collect_X = []\n",
    "     data_collect_Y = [] \n",
    "     for i in range(len(file_names) - 6):\n",
    "        X = np.stack([file_names[i],file_names[i+1],file_names[i+2],file_names[i+3],file_names[i+4],file_names[i+5]],axis = 0)\n",
    "        data_collect_X.append(X)\n",
    "        data_collect_Y.append(file_names[i+6])\n",
    "     return np.array(data_collect_X),np.array(data_collect_Y)\n",
    "    "
   ]
  },
  {
   "cell_type": "code",
   "execution_count": 70,
   "id": "e8a6380c",
   "metadata": {},
   "outputs": [],
   "source": [
    "# all_X,all_Y = get_image_filesname( os.getcwd() + '\\\\train_images_202107_110_128')\n",
    "# all_train_X,all_valid_X,all_train_Y,all_valid_Y = train_test_split(all_X, all_Y, test_size=0.2, random_state=13)\n",
    "\n",
    "# # all_train_X[5]\n",
    "\n",
    "# all_valid_X.shape"
   ]
  },
  {
   "cell_type": "code",
   "execution_count": 72,
   "id": "18f841f0",
   "metadata": {},
   "outputs": [
    {
     "data": {
      "text/plain": [
       "(388, 6, 115, 115, 1)"
      ]
     },
     "execution_count": 72,
     "metadata": {},
     "output_type": "execute_result"
    }
   ],
   "source": [
    "x,y = load_data(data_path)\n",
    "xx = x.reshape(-1,6,115,115,1)\n",
    "yy = y.reshape(-1,115,115,1)\n",
    "xx = xx.astype('float32')/255\n",
    "yy = yy.astype('float32')/255\n",
    "train_X,valid_X,train_Y,valid_Y = train_test_split(xx, yy, test_size=0.2, random_state=13)\n",
    "valid_X.shape"
   ]
  },
  {
   "cell_type": "markdown",
   "id": "e712920a",
   "metadata": {},
   "source": [
    "## 构建神经网络层"
   ]
  },
  {
   "cell_type": "code",
   "execution_count": 73,
   "id": "411849d0",
   "metadata": {
    "scrolled": true
   },
   "outputs": [
    {
     "name": "stdout",
     "output_type": "stream",
     "text": [
      "Model: \"sequential_3\"\n",
      "_________________________________________________________________\n",
      "Layer (type)                 Output Shape              Param #   \n",
      "=================================================================\n",
      "conv_lst_m2d_11 (ConvLSTM2D) (None, 6, 115, 115, 64)   150016    \n",
      "_________________________________________________________________\n",
      "batch_normalization_11 (Batc (None, 6, 115, 115, 64)   256       \n",
      "_________________________________________________________________\n",
      "conv_lst_m2d_12 (ConvLSTM2D) (None, 6, 115, 115, 32)   110720    \n",
      "_________________________________________________________________\n",
      "batch_normalization_12 (Batc (None, 6, 115, 115, 32)   128       \n",
      "_________________________________________________________________\n",
      "conv_lst_m2d_13 (ConvLSTM2D) (None, 6, 115, 115, 32)   73856     \n",
      "_________________________________________________________________\n",
      "batch_normalization_13 (Batc (None, 6, 115, 115, 32)   128       \n",
      "_________________________________________________________________\n",
      "conv_lst_m2d_14 (ConvLSTM2D) (None, 115, 115, 32)      73856     \n",
      "_________________________________________________________________\n",
      "batch_normalization_14 (Batc (None, 115, 115, 32)      128       \n",
      "_________________________________________________________________\n",
      "conv2d_2 (Conv2D)            (None, 115, 115, 1)       33        \n",
      "=================================================================\n",
      "Total params: 409,121\n",
      "Trainable params: 408,801\n",
      "Non-trainable params: 320\n",
      "_________________________________________________________________\n",
      "None\n"
     ]
    }
   ],
   "source": [
    "# class My_Custom_Generator(tf.keras.utils.Sequence) :\n",
    "  \n",
    "#   def __init__(self, image_filenames, labels_filenames, batch_size) :\n",
    "#     self.image_filenames = image_filenames\n",
    "#     self.labels_filenames = labels_filenames\n",
    "#     self.batch_size = batch_size\n",
    "    \n",
    "    \n",
    "#   def __len__(self) :\n",
    "#     return len(self.image_filenames) // self.batch_size\n",
    "  \n",
    "    \n",
    "#   def __get_file_to_images_X(self,file_names):\n",
    "#     train_ = []\n",
    "#     for i in range(len(file_names)):\n",
    "#         image_list = []\n",
    "#         for n in range(len(file_names[i])):\n",
    "#             image_list.append(cv2.imread(file_names[i][n][0],cv2.IMREAD_GRAYSCALE))\n",
    "#         data = np.stack(image_list,axis = 0)\n",
    "#         train_.append(data)\n",
    "#     return np.array(train_).reshape(self.batch_size,6,110,128,1)\n",
    "   \n",
    "#   def __get_file_to_images_Y(self,file_names):\n",
    "#     train_ = []\n",
    "#     for i in range(len(file_names)):\n",
    "#         train_.append(cv2.imread(file_names[i][0],cv2.IMREAD_GRAYSCALE))\n",
    "#     train_ = np.stack(train_,axis = 0)\n",
    "#     return np.array(train_).reshape(self.batch_size,110,128,1)\n",
    "\n",
    "\n",
    "#   def __getitem__(self, idx) :\n",
    "#     batch_x = self.image_filenames[idx * self.batch_size : (idx+1) * self.batch_size]\n",
    "#     batch_y = self.labels_filenames[idx * self.batch_size : (idx+1) * self.batch_size]\n",
    "#     train_x = self.__get_file_to_images_X(batch_x)\n",
    "#     train_y = self.__get_file_to_images_Y(batch_y)   \n",
    "    \n",
    "    \n",
    "#     return train_x,train_y\n",
    "\n",
    "\n",
    "\n",
    "\n",
    "def cons_model():\n",
    "    \n",
    "    model = tf.keras.models.Sequential()\n",
    "    \"\"\"\n",
    "    参数说明\n",
    "    kernel_size = 用于提取特征的2d矩阵的大小\n",
    "    activation = 激发函数\n",
    "    \n",
    "    \"\"\"\n",
    "    model.add(tf.keras.layers.ConvLSTM2D(filters=64, kernel_size=(3, 3),\n",
    "                         input_shape=(6,115, 115, 1), padding='same', return_sequences=True, \n",
    "                         activation='tanh', recurrent_activation='hard_sigmoid',\n",
    "                         kernel_initializer='glorot_uniform', unit_forget_bias=True, \n",
    "                         dropout=0.4, recurrent_dropout=0.1, go_backwards=True )) ##添加卷积循环层，提取序列图像特征以及时次特征\n",
    "    model.add(tf.keras.layers.BatchNormalization())##添加标准化层，用于标准化图像数据\n",
    "\n",
    "    model.add(tf.keras.layers.ConvLSTM2D(filters=32, kernel_size=(3, 3), padding='same', return_sequences=True, \n",
    "                         activation='tanh', recurrent_activation='hard_sigmoid', \n",
    "                         kernel_initializer='glorot_uniform', unit_forget_bias=True, \n",
    "                         dropout=0.3, recurrent_dropout=0.1, go_backwards=True ))\n",
    "    model.add(tf.keras.layers.BatchNormalization())\n",
    "    \n",
    "    model.add(tf.keras.layers.ConvLSTM2D(filters=32, kernel_size=(3, 3), padding='same', return_sequences=True, \n",
    "                         activation='tanh', recurrent_activation='hard_sigmoid', \n",
    "                         kernel_initializer='glorot_uniform', unit_forget_bias=True, \n",
    "                         dropout=0.3, recurrent_dropout=0.1, go_backwards=True ))\n",
    "    model.add(tf.keras.layers.BatchNormalization())\n",
    "\n",
    "\n",
    "    model.add(tf.keras.layers.ConvLSTM2D(filters=32, kernel_size=(3, 3), padding='same', return_sequences=False, \n",
    "                         activation='tanh', recurrent_activation='hard_sigmoid', \n",
    "                         kernel_initializer='glorot_uniform', unit_forget_bias=True, \n",
    "                         dropout=0.3, recurrent_dropout=0.1, go_backwards=True ))\n",
    "    model.add(tf.keras.layers.BatchNormalization())\n",
    "    \n",
    "    model.add(tf.keras.layers.Conv2D(filters=1, kernel_size=(1, 1),activation='sigmoid',padding='same', data_format='channels_last')) \n",
    "    \n",
    "    print(model.summary())\n",
    "    return model\n",
    "\n",
    "my_model = cons_model()\n",
    "\n",
    "\n",
    "# def cons_model1():\n",
    "#     model = tf.keras.models.Sequential()\n",
    "#     model.add(tf.keras.layers.ConvLSTM2D(filters=64, kernel_size=(2, 2),\n",
    "#                          input_shape=(6,110, 128, 1), padding='same', return_sequences=True, \n",
    "#                          activation='tanh', recurrent_activation='hard_sigmoid',\n",
    "#                          kernel_initializer='glorot_uniform', unit_forget_bias=True, \n",
    "#                          dropout=0.4, recurrent_dropout=0.2, go_backwards=True ))\n",
    "#     model.add(tf.keras.layers.BatchNormalization())\n",
    "\n",
    "#     model.add(tf.keras.layers.ConvLSTM2D(filters=32, kernel_size=(2, 2), padding='same', return_sequences=True, \n",
    "#                          activation='tanh', recurrent_activation='hard_sigmoid', \n",
    "#                          kernel_initializer='glorot_uniform', unit_forget_bias=True, \n",
    "#                          dropout=0.4, recurrent_dropout=0.2, go_backwards=True ))\n",
    "#     model.add(tf.keras.layers.BatchNormalization())\n",
    "    \n",
    "#     model.add(tf.keras.layers.ConvLSTM2D(filters=32, kernel_size=(2, 2), padding='same', return_sequences=True, \n",
    "#                          activation='tanh', recurrent_activation='hard_sigmoid', \n",
    "#                          kernel_initializer='glorot_uniform', unit_forget_bias=True, \n",
    "#                          dropout=0.4, recurrent_dropout=0.2, go_backwards=True ))\n",
    "#     model.add(tf.keras.layers.BatchNormalization())\n",
    "\n",
    "\n",
    "#     model.add(tf.keras.layers.ConvLSTM2D(filters=32, kernel_size=(2, 2), padding='same', return_sequences=True, \n",
    "#                          activation='tanh', recurrent_activation='hard_sigmoid', \n",
    "#                          kernel_initializer='glorot_uniform', unit_forget_bias=True, \n",
    "#                          dropout=0.4, recurrent_dropout=0.2, go_backwards=True ))\n",
    "#     model.add(tf.keras.layers.BatchNormalization())\n",
    "    \n",
    "#     model.add(tf.keras.layers.ConvLSTM2D(filters=16, kernel_size=(2, 2), padding='same', return_sequences=True, \n",
    "#                          activation='tanh', recurrent_activation='hard_sigmoid', \n",
    "#                          kernel_initializer='glorot_uniform', unit_forget_bias=True, \n",
    "#                          dropout=0.4, recurrent_dropout=0.2, go_backwards=True ))\n",
    "#     model.add(tf.keras.layers.BatchNormalization())\n",
    "    \n",
    "    \n",
    "#     model.add(tf.keras.layers.Conv3D(filters=1, kernel_size=(1,1,1),\n",
    "#                    activation='sigmoid'\n",
    "#                    padding='same', data_format='channels_last')) \n",
    "    \n",
    "#     print(model.summary())\n",
    "#     return model\n"
   ]
  },
  {
   "cell_type": "code",
   "execution_count": 74,
   "id": "59cdf3e2",
   "metadata": {},
   "outputs": [],
   "source": [
    "batch_size = 12\n",
    "# my_training_batch_generator = My_Custom_Generator(all_train_X, all_train_Y, batch_size)\n",
    "# my_validation_batch_generator = My_Custom_Generator(all_valid_X, all_valid_Y, batch_size)"
   ]
  },
  {
   "cell_type": "code",
   "execution_count": 75,
   "id": "597d3695",
   "metadata": {},
   "outputs": [],
   "source": [
    "my_model.compile(loss=tf.keras.losses.MeanSquaredError(), optimizer=tf.keras.optimizers.Adam(learning_rate = 0.002),metrics=['mean_squared_error'])"
   ]
  },
  {
   "cell_type": "markdown",
   "id": "b392f088",
   "metadata": {},
   "source": [
    "### model训练"
   ]
  },
  {
   "cell_type": "code",
   "execution_count": 77,
   "id": "eab8048b",
   "metadata": {},
   "outputs": [
    {
     "name": "stdout",
     "output_type": "stream",
     "text": [
      "Epoch 1/4\n",
      "130/130 [==============================] - 9537s 73s/step - loss: 0.0784 - mean_squared_error: 0.0784 - val_loss: 0.0056 - val_mean_squared_error: 0.0056\n",
      "Epoch 2/4\n",
      "130/130 [==============================] - 9465s 73s/step - loss: 0.0031 - mean_squared_error: 0.0031 - val_loss: 0.0013 - val_mean_squared_error: 0.0013\n",
      "Epoch 3/4\n",
      "130/130 [==============================] - 9435s 73s/step - loss: 0.0011 - mean_squared_error: 0.0011 - val_loss: 6.9274e-04 - val_mean_squared_error: 6.9274e-04\n",
      "Epoch 4/4\n",
      "130/130 [==============================] - 9354s 72s/step - loss: 6.0737e-04 - mean_squared_error: 6.0737e-04 - val_loss: 4.7025e-04 - val_mean_squared_error: 4.7025e-04\n"
     ]
    }
   ],
   "source": [
    "# my_train = my_model.fit(my_training_batch_generator, validation_data = my_validation_batch_generator,epochs=2,verbose=1)\n",
    "my_train = my_model.fit(train_X, train_Y, batch_size=batch_size,epochs=4,verbose=1,validation_data=(valid_X, valid_Y))"
   ]
  },
  {
   "cell_type": "code",
   "execution_count": 62,
   "id": "510f7223",
   "metadata": {},
   "outputs": [
    {
     "name": "stdout",
     "output_type": "stream",
     "text": [
      "INFO:tensorflow:Assets written to: C:\\Users\\Administrator\\Desktop\\data_analyze\\2021-08-05_model\\assets\n"
     ]
    }
   ],
   "source": [
    "##储存模型到根目录\n",
    "a_path = os.getcwd() + '\\\\' + str(datetime.date.today()) + '_model'\n",
    "if(not os.path.isdir(a_path)):\n",
    "    os.mkdir(os.getcwd() + '\\\\' + str(datetime.date.today()) + '_model')\n",
    "my_model.save(os.getcwd() + '\\\\'+ str(datetime.date.today()) + '_model')"
   ]
  },
  {
   "cell_type": "code",
   "execution_count": 35,
   "id": "54f42639",
   "metadata": {},
   "outputs": [],
   "source": [
    "# path_ = 'D:\\\\misic-temp-UTC_0\\\\202106'\n",
    "# data_path = os.getcwd() + '\\\\train_images_{}_110_128'.format(path_[-6:])\n",
    "# pack_images_to_des(path_,1,1500)\n",
    "# x,y = load_data(data_path)\n",
    "# xx = x.reshape(-1,6,110,128,1)\n",
    "# yy = y.reshape(-1,110,128,1)\n",
    "# xx = xx.astype('float32')/255\n",
    "# yy = yy.astype('float32')/255\n",
    "# train_X,valid_X,train_Y,valid_Y = train_test_split(xx, yy, test_size=0.2, random_state=13)\n",
    "# my_train = my_model.fit(train_X, train_Y, batch_size=batch_size,epochs=4,verbose=1,validation_data=(valid_X, valid_Y))"
   ]
  },
  {
   "cell_type": "markdown",
   "id": "84127532",
   "metadata": {},
   "source": [
    "### model1 训练"
   ]
  },
  {
   "cell_type": "code",
   "execution_count": 32,
   "id": "41e45da4",
   "metadata": {},
   "outputs": [
    {
     "name": "stdout",
     "output_type": "stream",
     "text": [
      "Epoch 1/4\n",
      "133/133 [==============================] - 9232s 69s/step - loss: 0.0571 - mean_squared_error: 0.0571 - val_loss: 0.0054 - val_mean_squared_error: 0.0054\n",
      "Epoch 2/4\n",
      "133/133 [==============================] - 9166s 69s/step - loss: 0.0375 - mean_squared_error: 0.0375 - val_loss: 0.0394 - val_mean_squared_error: 0.0394\n",
      "Epoch 3/4\n",
      "133/133 [==============================] - 9060s 68s/step - loss: 0.0370 - mean_squared_error: 0.0370 - val_loss: 0.0381 - val_mean_squared_error: 0.0381\n",
      "Epoch 4/4\n",
      "133/133 [==============================] - 9033s 68s/step - loss: 0.0368 - mean_squared_error: 0.0368 - val_loss: 0.0371 - val_mean_squared_error: 0.0371\n",
      "INFO:tensorflow:Assets written to: C:\\Users\\Administrator\\Desktop\\data_analyze\\1_20002021-08-08_model\\assets\n",
      "Epoch 1/4\n",
      "133/133 [==============================] - 10204s 77s/step - loss: 0.0367 - mean_squared_error: 0.0367 - val_loss: 0.0366 - val_mean_squared_error: 0.0366\n",
      "Epoch 2/4\n",
      "133/133 [==============================] - 10219s 77s/step - loss: 0.0366 - mean_squared_error: 0.0366 - val_loss: 0.0366 - val_mean_squared_error: 0.0366\n",
      "Epoch 3/4\n",
      "133/133 [==============================] - 10025s 75s/step - loss: 0.0366 - mean_squared_error: 0.0366 - val_loss: 0.0385 - val_mean_squared_error: 0.0385\n",
      "Epoch 4/4\n",
      "133/133 [==============================] - 10103s 76s/step - loss: 0.0365 - mean_squared_error: 0.0365 - val_loss: 0.0506 - val_mean_squared_error: 0.0506\n",
      "INFO:tensorflow:Assets written to: C:\\Users\\Administrator\\Desktop\\data_analyze\\2001_40002021-08-08_model\\assets\n"
     ]
    }
   ],
   "source": [
    "train_range = [(1,2000),(2001,4000)]\n",
    "for i in range(len(train_range)):\n",
    "    pack_images_to_des(path_,train_range[i][0],train_range[i][1])\n",
    "    x,y = load_data(data_path)\n",
    "    xx = x.reshape(-1,6,110,128,1)\n",
    "    yy = y.reshape(-1,110,128,1)\n",
    "    xx = xx.astype('float32')/255\n",
    "    yy = yy.astype('float32')/255\n",
    "    train_X,valid_X,train_Y,valid_Y = train_test_split(xx, yy, test_size=0.2, random_state=13)\n",
    "    my_train = my_model.fit(train_X, train_Y, batch_size=12,epochs=4,verbose=1,validation_data=(valid_X, valid_Y))\n",
    "    a_path = os.getcwd() + '\\\\' + str(train_range[i][0]) + '_' + str(train_range[i][1]) + str(datetime.date.today()) + '_model'\n",
    "    if(not os.path.isdir(a_path)):\n",
    "        os.mkdir(a_path)\n",
    "    my_model.save(a_path)"
   ]
  },
  {
   "cell_type": "code",
   "execution_count": null,
   "id": "9734273d",
   "metadata": {},
   "outputs": [],
   "source": [
    "train_range = [(4001,5000),(5001,7000)]\n",
    "for i in range(len(train_range)):\n",
    "    pack_images_to_des(path_,train_range[i][0],train_range[i][1])\n",
    "    x,y = load_data(data_path)\n",
    "    xx = x.reshape(-1,6,110,128,1)\n",
    "    yy = y.reshape(-1,110,128,1)\n",
    "    xx = xx.astype('float32')/255\n",
    "    yy = yy.astype('float32')/255\n",
    "    train_X,valid_X,train_Y,valid_Y = train_test_split(xx, yy, test_size=0.2, random_state=13)\n",
    "    my_train = my_model.fit(train_X, train_Y, batch_size=12,epochs=4,verbose=1,validation_data=(valid_X, valid_Y))\n",
    "    a_path = os.getcwd() + '\\\\' + str(train_range[i][0]) + '_' + str(train_range[i][1]) + str(datetime.date.today()) + '_model'\n",
    "    if(not os.path.isdir(a_path)):\n",
    "        os.mkdir(a_path)\n",
    "    my_model.save(a_path)"
   ]
  },
  {
   "cell_type": "markdown",
   "id": "0792cb64",
   "metadata": {},
   "source": [
    "## 预测"
   ]
  },
  {
   "cell_type": "code",
   "execution_count": 38,
   "id": "5d7a8b47",
   "metadata": {},
   "outputs": [
    {
     "data": {
      "text/plain": [
       "(50, 110, 128, 1)"
      ]
     },
     "execution_count": 38,
     "metadata": {},
     "output_type": "execute_result"
    }
   ],
   "source": [
    "predicted_classes = my_model.predict(train_X[:50])\n",
    "predicted_classes.shape"
   ]
  },
  {
   "cell_type": "code",
   "execution_count": 14,
   "id": "8f1565c7",
   "metadata": {
    "scrolled": true
   },
   "outputs": [
    {
     "data": {
      "image/png": "[encoded data removed]",
      "text/plain": [
       "<Figure size 1000x1000 with 3 Axes>"
      ]
     },
     "metadata": {
      "needs_background": "light"
     },
     "output_type": "display_data"
    }
   ],
   "source": [
    "fig = plt.figure(figsize=(10, 10), dpi=100)\n",
    "num = 40\n",
    "plt.subplot(2, 2, 1)\n",
    "plt.imshow(train_X[1][1],cmap='gray')\n",
    "plt.subplot(2, 2, 2)\n",
    "plt.imshow(train_X[1][2],cmap='gray')\n",
    "plt.subplot(2, 2, 3)\n",
    "plt.imshow(train_Y[1],cmap='gray')\n",
    "plt.show()"
   ]
  },
  {
   "cell_type": "code",
   "execution_count": 22,
   "id": "dd22e7e5",
   "metadata": {},
   "outputs": [],
   "source": [
    "cv2.waitKey(0)\n",
    "cv2.destroyAllWindows()"
   ]
  },
  {
   "cell_type": "code",
   "execution_count": 9,
   "id": "2dd26378",
   "metadata": {},
   "outputs": [
    {
     "data": {
      "text/plain": [
       "0.0"
      ]
     },
     "execution_count": 9,
     "metadata": {},
     "output_type": "execute_result"
    }
   ],
   "source": [
    "num = 1\n",
    "y_true = train_X[num][]\n",
    "y_pred = train_X[num][]\n",
    "# Using 'auto'/'sum_over_batch_size' reduction type.\n",
    "msle = tf.keras.losses.MeanSquaredError( )\n",
    "msle(y_true, y_pred).numpy()"
   ]
  },
  {
   "cell_type": "code",
   "execution_count": 49,
   "id": "bdcfaa7f",
   "metadata": {},
   "outputs": [
    {
     "data": {
      "text/plain": [
       "(1595, 110, 128, 1)"
      ]
     },
     "execution_count": 49,
     "metadata": {},
     "output_type": "execute_result"
    }
   ],
   "source": [
    "# y_true = [1, 2]\n",
    "# y_pred = [[0.05, 0.95, 0], [0.1, 0.8, 0.1]]\n",
    "# # Using 'auto'/'sum_over_batch_size' reduction type.\n",
    "# scce = tf.keras.losses.SparseCategoricalCrossentropy()\n",
    "# scce(y_true, y_pred).numpy()"
   ]
  },
  {
   "cell_type": "code",
   "execution_count": 12,
   "id": "b44c4e3e",
   "metadata": {},
   "outputs": [
    {
     "data": {
      "text/plain": [
       "(113, 6, 110, 128, 1)"
      ]
     },
     "execution_count": 12,
     "metadata": {},
     "output_type": "execute_result"
    }
   ],
   "source": [
    "train_Y.shape\n",
    "train_X.shape"
   ]
  },
  {
   "cell_type": "markdown",
   "id": "c16f5d88",
   "metadata": {},
   "source": [
    "## 运行"
   ]
  },
  {
   "cell_type": "code",
   "execution_count": 36,
   "id": "a37e0c0b",
   "metadata": {},
   "outputs": [],
   "source": [
    "# test_eval = my_model.evaluate(test_X, test_Y)\n",
    "\n",
    "a_path_to_model = os.getcwd()+ '\\\\' + '4001_60002021-08-06_model'#在_前加上model所在文件夹的名字\n",
    "my_model = tf.keras.models.load_model(a_path_to_model)  #加载模型"
   ]
  },
  {
   "cell_type": "code",
   "execution_count": 37,
   "id": "d61ea65d",
   "metadata": {},
   "outputs": [],
   "source": [
    "path_ = 'D:\\\\misic-temp-UTC_0'\n",
    "def run_predict(my_model,path,images_num):\n",
    "    def sort_files(f_df):\n",
    "        order = f_df.apply(lambda x:int(x[0][:-4]),axis = 1)\n",
    "        return_df = f_df.set_index(order).sort_index()\n",
    "        return f_df\n",
    "    last_num_files = -1 #用于确认是否有新的图片加进来\n",
    "    while(True):\n",
    "        working_images = []\n",
    "        yy_mm = str(datetime.datetime.now(pytz.utc).date()).replace(\"-\",\"\")[:-2]\n",
    "        sources_path = path + '\\\\' + yy_mm\n",
    "        to_path = path + '\\\\' + yy_mm + '_predict'\n",
    "        if(len(os.listdir(path)) != last_num_files):#如果没有新图片加入\n",
    "            last_num_files = len(os.listdir(path))\n",
    "            if(not os.path.isdir(to_path)):\n",
    "                os.mkdir(to_path)\n",
    "            files_df = pd.DataFrame(os.listdir(sources_path))\n",
    "            files_df = sort_files(files_df)\n",
    "            if(len(files_df) < images_num):##当前月份还未出现足够的图片，去上一个月的文件夹里加载部分图片\n",
    "                last_yy_mm = str(datetime.datetime.now(pytz.utc).date() - datetime.timedelta(days = 5)).replace(\"-\",\"\")[:-2]\n",
    "                last_sources_path =  path + '\\\\' + last_yy_mm\n",
    "                last_files_df = pd.DataFrame(os.listdir(last_sources_path))\n",
    "                last_files_df = sort_files(last_files_df)\n",
    "                images_num_from_last = images_num-len(files_df)\n",
    "                for i in range(image_num_from_last):\n",
    "                    im = plt.imread( last_sources_path+ '\\\\' + last_files_df.iloc[-i-1][0])\n",
    "                    im = down_image(im)\n",
    "                    working_images.append(im.reshape(110,128,1))\n",
    "                working_images.reverse()\n",
    "                for i in range(len(files_df)):\n",
    "                    im = plt.imread(sources_path + '\\\\' + files_df.iloc[i][0])\n",
    "                    im = down_image(im)\n",
    "                    working_images.append(im.reshape(110,128,1))\n",
    "            else:\n",
    "                for i in range(images_num):\n",
    "                    im = plt.imread(sources_path + '\\\\'+ files_df.iloc[-i-1][0])\n",
    "                    im = down_image(im)\n",
    "                    working_images.append(im.reshape(110,128,1))\n",
    "                working_images.reverse()\n",
    "            working_images = list(np.array(working_images)/255.0)\n",
    "            name =  files_df.iloc[-1][0][:-4]\n",
    "            for i in range(len(working_images)):#循环预测\n",
    "                working_data = []\n",
    "                working_image_stack = np.stack(working_images,axis = 0).reshape(images_num,110,128,1)\n",
    "                working_data.append(working_image_stack)\n",
    "                working_data = np.array(working_data)\n",
    "                next_image = my_model.predict(working_data)\n",
    "                iimage = (next_image[0]*255).astype(np.uint8)\n",
    "                cv2.imwrite(to_path + '\\\\' + name +'+{}.png'.format(i+1), iimage)\n",
    "                working_images.pop(0)\n",
    "                working_images.append(next_image[0])\n",
    "\n",
    "        else:\n",
    "            pass\n",
    "        time.sleep(60)"
   ]
  },
  {
   "cell_type": "code",
   "execution_count": 38,
   "id": "97514c3e",
   "metadata": {},
   "outputs": [
    {
     "ename": "KeyboardInterrupt",
     "evalue": "",
     "output_type": "error",
     "traceback": [
      "\u001b[1;31m---------------------------------------------------------------------------\u001b[0m",
      "\u001b[1;31mKeyboardInterrupt\u001b[0m                         Traceback (most recent call last)",
      "\u001b[1;32m<ipython-input-38-c5e26de920a3>\u001b[0m in \u001b[0;36m<module>\u001b[1;34m\u001b[0m\n\u001b[1;32m----> 1\u001b[1;33m \u001b[0mrun_predict\u001b[0m\u001b[1;33m(\u001b[0m\u001b[0mmy_model\u001b[0m\u001b[1;33m,\u001b[0m\u001b[0mpath_\u001b[0m\u001b[1;33m,\u001b[0m \u001b[1;36m6\u001b[0m\u001b[1;33m)\u001b[0m\u001b[1;33m\u001b[0m\u001b[1;33m\u001b[0m\u001b[0m\n\u001b[0m",
      "\u001b[1;32m<ipython-input-37-acb7bc96433c>\u001b[0m in \u001b[0;36mrun_predict\u001b[1;34m(my_model, path, images_num)\u001b[0m\n\u001b[0;32m     53\u001b[0m         \u001b[1;32melse\u001b[0m\u001b[1;33m:\u001b[0m\u001b[1;33m\u001b[0m\u001b[1;33m\u001b[0m\u001b[0m\n\u001b[0;32m     54\u001b[0m             \u001b[1;32mpass\u001b[0m\u001b[1;33m\u001b[0m\u001b[1;33m\u001b[0m\u001b[0m\n\u001b[1;32m---> 55\u001b[1;33m         \u001b[0mtime\u001b[0m\u001b[1;33m.\u001b[0m\u001b[0msleep\u001b[0m\u001b[1;33m(\u001b[0m\u001b[1;36m60\u001b[0m\u001b[1;33m)\u001b[0m\u001b[1;33m\u001b[0m\u001b[1;33m\u001b[0m\u001b[0m\n\u001b[0m",
      "\u001b[1;31mKeyboardInterrupt\u001b[0m: "
     ]
    }
   ],
   "source": [
    "run_predict(my_model,path_, 6)"
   ]
  },
  {
   "cell_type": "markdown",
   "id": "6016209c",
   "metadata": {},
   "source": [
    "## 安装核心packge"
   ]
  },
  {
   "cell_type": "code",
   "execution_count": null,
   "id": "ede06bbc",
   "metadata": {},
   "outputs": [],
   "source": [
    "# pip install -U numpy --user\n",
    "# pip install numpy==1.19.5"
   ]
  },
  {
   "cell_type": "code",
   "execution_count": null,
   "id": "12b26033",
   "metadata": {},
   "outputs": [],
   "source": [
    "# pip install opencv-python==4.2.0.32 --user"
   ]
  },
  {
   "cell_type": "code",
   "execution_count": null,
   "id": "ab272c46",
   "metadata": {},
   "outputs": [],
   "source": [
    "# pip install numpy==1.19.5 --user"
   ]
  },
  {
   "cell_type": "code",
   "execution_count": 82,
   "id": "eb6750f8",
   "metadata": {},
   "outputs": [
    {
     "data": {
      "text/plain": [
       "[1.0, 2.0, 3.0]"
      ]
     },
     "execution_count": 82,
     "metadata": {},
     "output_type": "execute_result"
    }
   ],
   "source": [
    "a = list(np.array([1,2,3])/1.0)\n",
    "a"
   ]
  },
  {
   "cell_type": "code",
   "execution_count": 153,
   "id": "56dddc64",
   "metadata": {},
   "outputs": [
    {
     "name": "stdout",
     "output_type": "stream",
     "text": [
      "a1a2\n"
     ]
    }
   ],
   "source": []
  },
  {
   "cell_type": "code",
   "execution_count": null,
   "id": "a6a58a50",
   "metadata": {},
   "outputs": [],
   "source": []
  }
 ],
 "metadata": {
  "kernelspec": {
   "display_name": "Python 3",
   "language": "python",
   "name": "python3"
  },
  "language_info": {
   "codemirror_mode": {
    "name": "ipython",
    "version": 3
   },
   "file_extension": ".py",
   "mimetype": "text/x-python",
   "name": "python",
   "nbconvert_exporter": "python",
   "pygments_lexer": "ipython3",
   "version": "3.8.8"
  }
 },
 "nbformat": 4,
 "nbformat_minor": 5
}
